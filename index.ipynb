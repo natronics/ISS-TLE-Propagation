{
 "cells": [
  {
   "cell_type": "markdown",
   "metadata": {},
   "source": [
    "# Tracking The Space Station In Real Time\n",
    "\n",
    "<span class=\"pubdate\">April 2016</span>"
   ]
  },
  {
   "cell_type": "markdown",
   "metadata": {},
   "source": [
    "Do you know where the [International Space Station](http://www.nasa.gov/audience/forstudents/5-8/features/nasa-knows/what-is-the-iss-58.html) is right now? There are lots of sites[^1] maps of the current position of the ISS. NASA probably knows where it is[^2], but how is it done?\n",
    "\n",
    "[^1]: <https://www.google.com/webhp?q=The+current+position+of+the+ISS>\n",
    "[^2]: Citation Needed"
   ]
  },
  {
   "cell_type": "markdown",
   "metadata": {},
   "source": [
    "## Early History Of Satellite Tracking\n",
    "\n",
    "In the 1950's scientists and engineers (and science fiction writters) realized that launching a rocket into orbit would be practical in the near future. There were still many problems to solve before the first spacecraft would fly, and tracking was high on the list.\n",
    "\n",
    "Once a rocket was launched, you could send back data about how the mission was going via radios and recievers on the ground. But once it gets out over the ocean and below the horizon there's no way to hear from it! The effect is that you launch a rocket, everything is going well, near the end of the burn the vehicle goes below the horizon and dissapears off radar and ... who knows! You wait an hour and a half for it to finish it's first orbit and hope to hear from it again. Or not. It's a pure information blackout. So how will you find it again when it comes around. You can't be 100% sure that it ended up in the entended orbit.\n",
    "\n",
    "It was known that in the right lighting conditions (in the early evening or morning when there would be sunlight on the craft after it starts to get dark on the ground) you could see and track an object optically, getting very high precision timing and angle data for a few minutes --- enough to compute an orbit trajectory. The early tracking stations used to practice this before the first satellite was even launched by dangling a lightbulb on a cord behind an airplane! But they found it was nearly impossible to find that dot of light unless you already had a pretty good idea where and when it was going to appear.\n",
    "\n",
    "\n",
    "### Radios To The Rescue\n",
    "\n",
    "The answer was to put a rudamentry transponder on the craft and use a sensitive wide-angle radio dish on the ground that could pick out the signal as long as it went overhead. The rough orbit could be determined via this radio method and high quality data could be picked up later with the optical method. This first system was called Minitrack[^3] and was used by the United States for tracking all the early satellites.\n",
    "\n",
    "\n",
    "### Radar\n",
    "\n",
    "As radar and radio processing hardware got more and more advanced it started to become possible to direcly 'see' satellites overhead with strong radar systems. This meant you could redily track otherwise silent objects (like satellites from rival millitaries, or space debris). Today the US operates large radar tracking systems and so-called \"radio fences\" the throw up thousands of watts of long-wave radio and listen for reflections off of anything in the sky. Optical techniques are still used as well, with both ground based and space based telescopes (a hold over from the Cold War) being used to regularly track objects. The United States Strategic Command currently identified, and tracks upwards of 20,000 objects larger than 10 centimeters.\n",
    "\n",
    "### DIY\n",
    "\n",
    "For satellites that are still in good working order, it's possible to determine the location onboard and simply have it tell us where it is. For the International Space Station this is exactly what is done. A pair of high quality GPS receivers (plus more for redundancy) are operated continuously and used for the primary location and attitude of the station. The location, velocity and therefore expected orbit is continuously monitored and beamed down in telemetry to mission control. If that fails, we have the most recent orbit data that would be accurate for many hours, up to a few days. In the mean time radar and optical tracking can fill in the gaps. Though it should be noted that GPS is very reliable in Low Earth Orbit (despite the comon misconception that it wouldn't work in space).\n",
    "\n",
    "[^3]: <https://en.wikipedia.org/wiki/Minitrack>"
   ]
  },
  {
   "cell_type": "markdown",
   "metadata": {},
   "source": [
    "## Getting The Data From NASA\n",
    "\n",
    "A few years ago NASA ran a fun project called ISS LIVE! that used some javascript streaming protocols to show near-real-time data from the servers in mission control. One of the pieces of data were state vectors. Gathering ISS state vector data from [isslive.com](http://isslive.com/displays/adcoDisplay1.html).\n",
    "\n",
    "## The Data"
   ]
  },
  {
   "cell_type": "code",
   "execution_count": null,
   "metadata": {
    "collapsed": false
   },
   "outputs": [],
   "source": [
    "# dependencies\n",
    "from numpy import loadtxt, column_stack, subtract, multiply, divide, average, degrees, delete\n",
    "from numpy.linalg import norm\n",
    "from numpy import mgrid, pi, sin, cos\n",
    "from sgp4.earth_gravity import wgs72 as gravity_model\n",
    "from sgp4.ext import rv2coe\n",
    "import datetime\n",
    "import locale\n",
    "import matplotlib.pyplot as plt\n",
    "import matplotlib.dates as mdates\n",
    "from mpl_toolkits.mplot3d import Axes3D\n",
    "%matplotlib inline\n",
    "\n",
    "# constants\n",
    "GPS2UNIX_OFFSET  = 315964800  # sec\n",
    "RADIUS_EARTH     =      6371  # km\n",
    "\n",
    "# Useful date formats for x-axis\n",
    "date_fmt_long = mdates.DateFormatter('%b-%d %H:%M')\n",
    "date_fmt_day = mdates.DateFormatter('%b %d')\n",
    "\n",
    "#dates\n",
    "mar1 = datetime.datetime(2016,3,1)\n",
    "mar31 = datetime.datetime(2016,3,31)\n",
    "march = [mar1, mar31]\n",
    "\n",
    "# colors\n",
    "red = \"#941e56\"\n",
    "blue = \"#4a73e1\"\n",
    "green = \"#22b464\"\n",
    "\n",
    "locale.setlocale(locale.LC_ALL, 'en_US.UTF-8')\n",
    "\n",
    "u, v = mgrid[0:2*pi:40j, 0:pi:20j]\n",
    "radius = RADIUS_EARTH\n",
    "es_x = cos(u)*sin(v)*radius\n",
    "es_y = sin(u)*sin(v)*radius\n",
    "es_z = cos(v)*radius"
   ]
  },
  {
   "cell_type": "code",
   "execution_count": null,
   "metadata": {
    "collapsed": false
   },
   "outputs": [],
   "source": [
    "# import data\n",
    "columns = loadtxt('./data/ISS-Live-Capture-March.csv', delimiter=',', unpack=True)\n",
    "\n",
    "receive_time = columns[0]\n",
    "state_time   = columns[1]\n",
    "state_x, state_y, state_z = columns[2:5]\n",
    "state_vx, state_vy, state_vz = columns[5:8]\n",
    "number_of_points = len(state_time)\n",
    "\n",
    "# converty GPS stamp to datetime object\n",
    "state_time = [datetime.datetime.utcfromtimestamp(t + GPS2UNIX_OFFSET) for t in state_time]\n",
    "\n",
    "# vector position\n",
    "state_vec = column_stack((state_x,  state_y,  state_z))\n",
    "radius = norm(state_vec, axis=1)\n",
    "\n",
    "# vector velocity\n",
    "state_velvec = column_stack((state_vx,  state_vy,  state_vz))\n",
    "velocity = norm(state_velvec, axis=1)\n",
    "\n",
    "# Orbital Elements\n",
    "a = []\n",
    "e = []\n",
    "incl = []\n",
    "for i, t in enumerate(state_time):\n",
    "    p, sm_a, ecc, inc, omega, argp, nu, m, arglat, truelon, lonper = rv2coe(state_vec[i], state_velvec[i]/1000.0, gravity_model.mu)\n",
    "    a.append(sm_a)\n",
    "    e.append(ecc)\n",
    "    incl.append(degrees(inc))\n",
    "\n",
    "# Throw out weird looking state vectors\n",
    "badlist = []\n",
    "for i, t in enumerate(state_time):\n",
    "    # weird timestamps\n",
    "    if state_time[i] < datetime.datetime(2016, 2, 28, 0,0,0):\n",
    "        badlist.append(i)\n",
    "    if state_time[i] > datetime.datetime(2016, 4, 2, 0,0,0):\n",
    "        badlist.append(i)\n",
    "        \n",
    "    # wild position\n",
    "    if radius[i] > 6788.0 or radius[i] < 6774.5:\n",
    "        badlist.append(i)\n",
    "        \n",
    "    # wild velocity \n",
    "    if velocity[i] > 7674.0 or velocity[i] < 7657.0:\n",
    "        badlist.append(i)\n",
    "        \n",
    "    # orbital params don't look right\n",
    "    if a[i] > 6791.0 or a[i] < 6776: badlist.append(i)\n",
    "    if e[i] > 0.0016: badlist.append(i)\n",
    "        \n",
    "        \n",
    "# ignore dupes\n",
    "badlist = set(badlist)\n",
    "\n",
    "\n",
    "state_time   = [value for i, value in enumerate(state_time)   if i not in badlist]\n",
    "state_x      = [value for i, value in enumerate(state_x)      if i not in badlist]\n",
    "state_y      = [value for i, value in enumerate(state_y)      if i not in badlist]\n",
    "state_z      = [value for i, value in enumerate(state_z)      if i not in badlist]\n",
    "state_vx     = [value for i, value in enumerate(state_vx)     if i not in badlist]\n",
    "state_vy     = [value for i, value in enumerate(state_vy)     if i not in badlist]\n",
    "state_vz     = [value for i, value in enumerate(state_vz)     if i not in badlist]\n",
    "state_vec    = [value for i, value in enumerate(state_vec)    if i not in badlist]\n",
    "radius       = [value for i, value in enumerate(radius)       if i not in badlist]\n",
    "state_velvec = [value for i, value in enumerate(state_velvec) if i not in badlist]\n",
    "velocity     = [value for i, value in enumerate(velocity)     if i not in badlist]\n",
    "a            = [value for i, value in enumerate(a)            if i not in badlist]\n",
    "e            = [value for i, value in enumerate(e)            if i not in badlist]\n",
    "incl         = [value for i, value in enumerate(incl)         if i not in badlist]\n",
    "\n",
    "# averages\n",
    "avg_velocity = average(velocity)\n",
    "avg_a = average(a)\n",
    "avg_e = average(e)\n",
    "\n",
    "# find the gaps in the time\n",
    "state_gaps = []\n",
    "for i, t in enumerate(state_time[:-1]):\n",
    "    diff = (state_time[i+1] - t).seconds\n",
    "    if diff > 15:\n",
    "        state_gaps.append(i)"
   ]
  },
  {
   "cell_type": "code",
   "execution_count": null,
   "metadata": {
    "collapsed": false
   },
   "outputs": [],
   "source": [
    "print \"\"\"The data coverage is from %s through %s (%d days). There are %s state vectors\n",
    "in the file, though %s were determined to be odd, and not used in this analysis. In addition the reporting service\n",
    "failed often during the data gathering, so there are significant portions of data missing.\n",
    "\"\"\" % (state_time[0].strftime(\"%B %d, %H:%M:%S UTC\"),\n",
    "       state_time[-1].strftime(\"%B %d, %H:%M:%S UTC\"),\n",
    "       (state_time[-1] - state_time[0]).days,\n",
    "       locale.format(\"%d\", number_of_points, grouping=True),\n",
    "       locale.format(\"%d\", len(badlist), grouping=True))"
   ]
  },
  {
   "cell_type": "markdown",
   "metadata": {},
   "source": [
    "Download the raw data:\n",
    "\n",
    " - This article, source code, and all data: [archive.zip](https://github.com/natronics/ISS-TLE-Propagation/archive/gh-pages.zip), [archive.tar.gz](https://github.com/natronics/ISS-TLE-Propagation/archive/gh-pages.tar.gz)\n",
    " - Visit the [GitHub project page](https://github.com/natronics/ISS-TLE-Propagation)\n",
    "\n",
    "See the position vector over time"
   ]
  },
  {
   "cell_type": "code",
   "execution_count": null,
   "metadata": {
    "collapsed": false
   },
   "outputs": [],
   "source": [
    "fig, ax1 = plt.subplots(figsize=(24,8))\n",
    "plt.title(r\"ISS State Vector J2000 X,Y,Z Position Over Time\")\n",
    "plt.ylabel(r\"J2000 Coordinate [km]\")\n",
    "plt.xlabel(r\"State Vector Date [Month Day]\")\n",
    "\n",
    "begin_data = 0\n",
    "for end_data in state_gaps:\n",
    "    plt.plot(state_time[begin_data:end_data], state_x[begin_data:end_data], color=red, alpha=0.75)\n",
    "    plt.plot(state_time[begin_data:end_data], state_y[begin_data:end_data], color=blue, alpha=0.75)\n",
    "    plt.plot(state_time[begin_data:end_data], state_z[begin_data:end_data], color=green, alpha=0.75)\n",
    "    begin_data = end_data+1\n",
    "\n",
    "# hack for labels\n",
    "plt.plot([state_time[0],state_time[0]], [-100000,-110000], color=red, alpha=0.8, label=\"X\")\n",
    "plt.plot([state_time[0],state_time[0]], [-100000,-110000], color=blue, alpha=0.8, label=\"Y\")\n",
    "plt.plot([state_time[0],state_time[0]], [-100000,-110000], color=green, alpha=0.8, label=\"Z\")\n",
    "\n",
    "ax1.xaxis.set_major_formatter(date_fmt_day)\n",
    "plt.ylim([-10e3,10e3])\n",
    "plt.xlim(march)\n",
    "ax1.legend(loc=1, title=\"Coordinate:\")\n",
    "plt.show()"
   ]
  },
  {
   "cell_type": "code",
   "execution_count": null,
   "metadata": {
    "collapsed": false
   },
   "outputs": [],
   "source": [
    "fig, ax1 = plt.subplots(figsize=(24,8))\n",
    "plt.title(r\"ISS State Vector J2000 X,Y,Z Position, One Orbit (typical)\")\n",
    "plt.ylabel(r\"J2000 Coordinate [km]\")\n",
    "plt.xlabel(r\"State Vector Date [Month-Day HH:MM (UTC)]\")\n",
    "\n",
    "begin_data = 0\n",
    "for end_data in state_gaps:\n",
    "    plt.plot(state_time[begin_data:end_data], state_x[begin_data:end_data], color=red, alpha=0.75)\n",
    "    plt.plot(state_time[begin_data:end_data], state_y[begin_data:end_data], color=blue, alpha=0.75)\n",
    "    plt.plot(state_time[begin_data:end_data], state_z[begin_data:end_data], color=green, alpha=0.75)\n",
    "    begin_data = end_data+1\n",
    "\n",
    "# hack for labels\n",
    "plt.plot([state_time[0],state_time[0]], [-100000,-110000], color=red, alpha=0.8, label=\"X\")\n",
    "plt.plot([state_time[0],state_time[0]], [-100000,-110000], color=blue, alpha=0.8, label=\"Y\")\n",
    "plt.plot([state_time[0],state_time[0]], [-100000,-110000], color=green, alpha=0.8, label=\"Z\")\n",
    "\n",
    "start_date = datetime.datetime(2016,3,2,0,59,0)\n",
    "end_date   = datetime.datetime(2016,3,2,2,32,0)\n",
    "ax1.xaxis.set_major_formatter(date_fmt_long)\n",
    "plt.setp(ax1.get_xticklabels(), rotation=45, horizontalalignment='right')\n",
    "plt.ylim([-10e3, 10e3])\n",
    "plt.xlim([start_date, end_date])\n",
    "ax1.legend(loc=1, title=\"Coordinate:\")\n",
    "plt.show()"
   ]
  },
  {
   "cell_type": "code",
   "execution_count": null,
   "metadata": {
    "collapsed": false
   },
   "outputs": [],
   "source": [
    "fig, ax1 = plt.subplots(figsize=(24,24))\n",
    "ax1 = plt.axes(projection='3d')\n",
    "plt.title(r\"ISS Orbit\")\n",
    "plt.xlabel(r\"J2000 X [km]\")\n",
    "plt.ylabel(r\"J2000 Y [km]\")\n",
    "ax1.set_zlabel('J2000 Z [km]')\n",
    "\n",
    "ax1.plot_wireframe(es_x, es_y, es_z, color=blue, alpha=0.2, lw=1.2)\n",
    "\n",
    "begin_data = 0\n",
    "for end_data in state_gaps:\n",
    "    ax1.plot(state_x[begin_data:end_data], state_y[begin_data:end_data], state_z[begin_data:end_data], '-', color=red, alpha=0.7, lw=0.4)\n",
    "    begin_data = end_data+1\n",
    "\n",
    "ax1.view_init(elev=15.0, azim=60)\n",
    "plt.setp(ax1.get_zticklabels(), horizontalalignment='right')\n",
    "ax1.set_xlim(-6000, 6000)\n",
    "ax1.set_ylim(-6000, 6000)\n",
    "ax1.set_zlim(-6000, 6000)\n",
    "ax1.set_aspect('equal','box')\n",
    "plt.show()"
   ]
  },
  {
   "cell_type": "markdown",
   "metadata": {},
   "source": [
    "See the alititude over time"
   ]
  },
  {
   "cell_type": "code",
   "execution_count": null,
   "metadata": {
    "collapsed": false
   },
   "outputs": [],
   "source": [
    "height = subtract(radius, RADIUS_EARTH)\n",
    "\n",
    "avg_height = average(height)\n",
    "fig, ax1 = plt.subplots(figsize=(24,8))\n",
    "plt.title(r\"ISS Geocentric Altitude Over Time\")\n",
    "plt.ylabel(r\"Geocentric Altitude [km]\")\n",
    "plt.xlabel(r\"State Vector Date [Month Day]\")\n",
    "\n",
    "begin_data = 0\n",
    "for end_data in state_gaps:\n",
    "    plt.plot(state_time[begin_data:end_data], height[begin_data:end_data], alpha=0.8, color=red)\n",
    "    begin_data = end_data+1\n",
    "\n",
    "# label hack\n",
    "plt.plot([state_time[0],state_time[0]],[0,0], color=red, alpha=0.8, label=\"Instantaneous Geocentric Altitude\")\n",
    "\n",
    "plt.plot([mar1, mar31], [avg_height, avg_height], 'k--', alpha=0.4, label=\"Mean Geocentric Altitude (%0.1f) km\" % avg_height)\n",
    "\n",
    "ax1.xaxis.set_major_formatter(date_fmt_day)\n",
    "plt.ylim([400,425])\n",
    "plt.xlim(march)\n",
    "ax1.legend(loc=1)\n",
    "plt.show()"
   ]
  },
  {
   "cell_type": "code",
   "execution_count": null,
   "metadata": {
    "collapsed": false
   },
   "outputs": [],
   "source": [
    "fig, ax1 = plt.subplots(figsize=(24,8))\n",
    "plt.title(r\"ISS Velocity Over Time\")\n",
    "plt.ylabel(r\"ECI Velocity [m/s]\")\n",
    "plt.xlabel(r\"State Vector Date [Month Day]\")\n",
    "\n",
    "\n",
    "begin_data = 0\n",
    "for end_data in state_gaps:\n",
    "    ax1.plot(state_time[begin_data:end_data], velocity[begin_data:end_data], color=red, alpha=0.75)\n",
    "    begin_data = end_data+1\n",
    "\n",
    "# label hack\n",
    "ax1.plot([state_time[0],state_time[0]], [0,0], color=red, alpha=0.75, label=\"Instantaneous ECI Velocity\")\n",
    "\n",
    "ax1.plot([mar1, mar31], [avg_velocity, avg_velocity], 'k--', alpha=0.4, label=\"Mean ECI Velocity (%0.1f) m/s\" % avg_velocity)\n",
    "ax1.plot([state_time[0],state_time[0]], [0,0], color=blue, linestyle='--', alpha=0.3, label=\"Geocentric Altitude\")\n",
    "\n",
    "\n",
    "ax1.xaxis.set_major_formatter(date_fmt_day)\n",
    "plt.ylim([7655,7680])\n",
    "ax1.legend(loc=1)\n",
    "\n",
    "ax2 = ax1.twinx()\n",
    "begin_data = 0\n",
    "for end_data in state_gaps:\n",
    "    ax2.plot(state_time[begin_data:end_data], height[begin_data:end_data], color=blue, linestyle='-.', alpha=0.3)\n",
    "    begin_data = end_data+1\n",
    "ax2.grid(b=False)\n",
    "plt.ylim([400,425])\n",
    "plt.ylabel(r\"Geocentric Altitude [km]\")\n",
    "\n",
    "plt.xlim(march)\n",
    "plt.show()"
   ]
  },
  {
   "cell_type": "code",
   "execution_count": null,
   "metadata": {
    "collapsed": false
   },
   "outputs": [],
   "source": [
    "fig, ax1 = plt.subplots(figsize=(24,8))\n",
    "plt.title(r\"ISS Instantaneous Orbital Elements: Semi-Major Axis\")\n",
    "plt.ylabel(r\"Semi-Major Axis [km]\")\n",
    "plt.xlabel(r\"State Vector Date [Month Day]\")\n",
    "\n",
    "begin_data = 0\n",
    "for end_data in state_gaps:\n",
    "    ax1.plot(state_time[begin_data:end_data], a[begin_data:end_data], color=red, alpha=0.75)\n",
    "    begin_data = end_data+1\n",
    "\n",
    "# label hack\n",
    "ax1.plot([state_time[0],state_time[0]], [0,0], color=red, alpha=0.75, label=\"Instantaneous Semi-Major Axis\")\n",
    "\n",
    "ax1.plot([mar1, mar31], [avg_a, avg_a], 'k--', alpha=0.4, label=\"Mean Semi-Major Axis (%0.1f) km\" % avg_a)\n",
    "\n",
    "ax1.xaxis.set_major_formatter(date_fmt_day)\n",
    "ax1.legend(loc=1)\n",
    "plt.ylim([RADIUS_EARTH+404, RADIUS_EARTH+421])\n",
    "plt.xlim(march)\n",
    "plt.show()"
   ]
  },
  {
   "cell_type": "code",
   "execution_count": null,
   "metadata": {
    "collapsed": false
   },
   "outputs": [],
   "source": [
    "fig, ax1 = plt.subplots(figsize=(24,8))\n",
    "plt.title(r\"ISS Instantaneous Orbital Elements: Inclination\")\n",
    "plt.ylabel(r\"Obrital Inclination [${}^0$]\")\n",
    "plt.xlabel(r\"State Vector Date [Month Day]\")\n",
    "\n",
    "begin_data = 0\n",
    "for end_data in state_gaps:\n",
    "    ax1.plot(state_time[begin_data:end_data], incl[begin_data:end_data], color=red, alpha=0.75)\n",
    "    begin_data = end_data+1\n",
    "\n",
    "# label hack\n",
    "ax1.plot([state_time[0],state_time[0]], [0,0], color=red, alpha=0.75, label=\"Inclination\")\n",
    "\n",
    "ax1.xaxis.set_major_formatter(date_fmt_day)\n",
    "plt.ylim([51.6-0.1,51.6+0.2])\n",
    "plt.xlim(march)\n",
    "plt.show()"
   ]
  },
  {
   "cell_type": "code",
   "execution_count": null,
   "metadata": {
    "collapsed": false
   },
   "outputs": [],
   "source": [
    "fig, ax1 = plt.subplots(figsize=(24,8))\n",
    "plt.title(r\"ISS Instantaneous Orbital Elements: Eccentricity\")\n",
    "plt.ylabel(r\"Obrital Inclination\")\n",
    "plt.xlabel(r\"State Vector Date [Month Day]\")\n",
    "\n",
    "begin_data = 0\n",
    "for end_data in state_gaps:\n",
    "    ax1.plot(state_time[begin_data:end_data], e[begin_data:end_data], color=red, alpha=0.75)\n",
    "    begin_data = end_data+1\n",
    "\n",
    "# label hack\n",
    "ax1.plot([state_time[0],state_time[0]], [0,0], color=red, alpha=0.75, label=\"Instantaneous Eccentricity\")\n",
    "\n",
    "ax1.plot([mar1, mar31], [avg_e, avg_e], 'k--', alpha=0.4, label=\"Mean Eccentricity (%0.5f)\" % avg_e)\n",
    "\n",
    "ax1.xaxis.set_major_formatter(date_fmt_day)\n",
    "ax1.legend(loc=1)\n",
    "plt.ylim([0,0.002])\n",
    "plt.xlim(march)\n",
    "plt.show()"
   ]
  },
  {
   "cell_type": "markdown",
   "metadata": {},
   "source": [
    "## Sort By Orbit"
   ]
  },
  {
   "cell_type": "code",
   "execution_count": null,
   "metadata": {
    "collapsed": false
   },
   "outputs": [],
   "source": [
    "orbits = []\n",
    "for i, x_1 in enumerate(state_x[1:2000]):\n",
    "    x_0 = state_x[i]\n",
    "    \n",
    "    if x_1 > 0 and x_0 <=0:\n",
    "        orbits.append(i+1)"
   ]
  },
  {
   "cell_type": "code",
   "execution_count": null,
   "metadata": {
    "collapsed": false
   },
   "outputs": [],
   "source": [
    "def func(x, a, b, c):\n",
    "    #p, sm_a, ecc, inc, omega, argp, nu, m, arglat, truelon, lonper\n",
    "    return a + b*x + c*x*x"
   ]
  },
  {
   "cell_type": "code",
   "execution_count": null,
   "metadata": {
    "collapsed": false
   },
   "outputs": [],
   "source": [
    "fig, ax1 = plt.subplots(figsize=(24,8))\n",
    "plt.title(r\"ISS State Vector J2000 X,Y,Z Position Over Time\")\n",
    "plt.ylabel(r\"J2000 Coordinate [km]\")\n",
    "plt.xlabel(r\"State Vector Date [Month Day]\")\n",
    "\n",
    "begin_data = 0\n",
    "for end_data in state_gaps:\n",
    "    if begin_data > orbits[-1]: break\n",
    "    plt.plot(state_time[begin_data:end_data], state_x[begin_data:end_data], color=red, alpha=0.75)\n",
    "    plt.plot(state_time[begin_data:end_data], state_y[begin_data:end_data], color=blue, alpha=0.75)\n",
    "    plt.plot(state_time[begin_data:end_data], state_z[begin_data:end_data], color=green, alpha=0.75)\n",
    "    begin_data = end_data+1\n",
    "\n",
    "for orbit in orbits:\n",
    "    plt.plot([state_time[orbit], state_time[orbit]], [-10000,10000], 'k--', alpha=0.5, lw=2)\n",
    "\n",
    "# hack for labels\n",
    "plt.plot([state_time[0],state_time[0]], [-100000,-110000], color=red, alpha=0.8, label=\"X\")\n",
    "plt.plot([state_time[0],state_time[0]], [-100000,-110000], color=blue, alpha=0.8, label=\"Y\")\n",
    "plt.plot([state_time[0],state_time[0]], [-100000,-110000], color=green, alpha=0.8, label=\"Z\")\n",
    "\n",
    "ax1.xaxis.set_major_formatter(date_fmt_long)\n",
    "plt.setp(ax1.get_xticklabels(), rotation=45, horizontalalignment='right')\n",
    "plt.ylim([-10e3,10e3])\n",
    "ax1.legend(loc=1, title=\"Coordinate:\")\n",
    "plt.show()"
   ]
  },
  {
   "cell_type": "code",
   "execution_count": null,
   "metadata": {
    "collapsed": false
   },
   "outputs": [],
   "source": [
    "fig, ax1 = plt.subplots(figsize=(24,8))\n",
    "plt.title(r\"ISS Semi-Major Axis By Orbit\")\n",
    "plt.ylabel(r\"Semi-Major Axis [km]\")\n",
    "plt.xlabel(r\"State Vector Date [Month Day]\")\n",
    "\n",
    "begin_data = 0\n",
    "for end_data in state_gaps:\n",
    "    if begin_data > orbits[-1]: break\n",
    "    ax1.plot(state_time[begin_data:end_data], a[begin_data:end_data], color=red, alpha=0.75)\n",
    "    begin_data = end_data+1\n",
    "\n",
    "for orbit in orbits:\n",
    "    plt.plot([state_time[orbit], state_time[orbit]], [-10000,10000], 'k--', alpha=0.5, lw=2)\n",
    "\n",
    "# hack for labels\n",
    "plt.plot([state_time[0],state_time[0]], [-100000,-110000], color=red, alpha=0.75, label=\"Instantanious Semi-Major Axis\")\n",
    "\n",
    "ax1.xaxis.set_major_formatter(date_fmt_long)\n",
    "plt.setp(ax1.get_xticklabels(), rotation=45, horizontalalignment='right')\n",
    "plt.ylim([RADIUS_EARTH+404, RADIUS_EARTH+421])\n",
    "ax1.legend(loc=1)\n",
    "plt.show()"
   ]
  },
  {
   "cell_type": "markdown",
   "metadata": {},
   "source": [
    "--------------------------------------------------------------------------------------\n",
    "\n",
    "This article was written in\n",
    "[Jupyter Notebooks](http://jupyter.org/).\n",
    "[View the original document](http://nbviewer.jupyter.org/github/natronics/ISS-TLE-Propagation/blob/gh-pages/index.ipynb) or download the raw file: [index.ipynb](https://raw.githubusercontent.com/natronics/ISS-TLE-Propagation/gh-pages/index.ipynb)\n",
    "\n",
    "Did I make a mistake? Have something to add? You can\n",
    "[create an issue](https://github.com/natronics/ISS-TLE-Propagation/issues)\n",
    ", or\n",
    "[build this page yourself](https://github.com/natronics/ISS-TLE-Propagation/blob/gh-pages/README.markdown)\n",
    "and\n",
    "[send a pull request](https://help.github.com/categories/collaborating-on-projects-using-pull-requests/)."
   ]
  },
  {
   "cell_type": "markdown",
   "metadata": {},
   "source": [
    "<a rel=\"license\" href=\"https://creativecommons.org/licenses/by-nc/4.0/\"><img class=\"wrap\" alt=\"Creative Commons License\" style=\"border-width:0\" src=\"https://i.creativecommons.org/l/by-nc/4.0/80x15.png\" /></a> &nbsp; This <span xmlns:dct=\"https://purl.org/dc/terms/\" href=\"https://purl.org/dc/dcmitype/InteractiveResource\" rel=\"dct:type\">work</span> by <a xmlns:cc=\"https://creativecommons.org/ns#\" href=\"https://github.com/natronics\" property=\"cc:attributionName\" rel=\"cc:attributionURL\">natronics</a> is licensed under a <a rel=\"license\" href=\"https://creativecommons.org/licenses/by-nc/4.0/\">Creative Commons Attribution-NonCommercial 4.0 International License</a>."
   ]
  },
  {
   "cell_type": "markdown",
   "metadata": {},
   "source": [
    "#### Footnotes"
   ]
  }
 ],
 "metadata": {
  "kernelspec": {
   "display_name": "Python 2",
   "language": "python",
   "name": "python2"
  },
  "language_info": {
   "codemirror_mode": {
    "name": "ipython",
    "version": 2
   },
   "file_extension": ".py",
   "mimetype": "text/x-python",
   "name": "python",
   "nbconvert_exporter": "python",
   "pygments_lexer": "ipython2",
   "version": "2.7.11+"
  }
 },
 "nbformat": 4,
 "nbformat_minor": 0
}
