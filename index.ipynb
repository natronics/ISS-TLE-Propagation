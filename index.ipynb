{
 "cells": [
  {
   "cell_type": "markdown",
   "metadata": {},
   "source": [
    "# Tracking The Space Station In Real Time\n",
    "\n",
    "<span class=\"pubdate\">March 2016</span>"
   ]
  },
  {
   "cell_type": "markdown",
   "metadata": {},
   "source": [
    "Do you know where the [International Space Station](http://www.nasa.gov/audience/forstudents/5-8/features/nasa-knows/what-is-the-iss-58.html) is right now? There are lots of sites[^1] that claim to show the current position of the ISS. NASA probably knows where it is[^2], but how is it done?\n",
    "\n",
    "[^1]: <https://www.google.com/webhp?q=The+current+position+of+the+ISS>\n",
    "[^2]: Citation Needed"
   ]
  },
  {
   "cell_type": "markdown",
   "metadata": {},
   "source": [
    "## Early History Of Satellite Tracking\n",
    "\n",
    "In the 1950's scientists and engineers (and science fiction writters) realsized that building a rocket that could launch an experiment in to Earth orbit would be practical in the near future."
   ]
  },
  {
   "cell_type": "code",
   "execution_count": null,
   "metadata": {
    "collapsed": false
   },
   "outputs": [],
   "source": [
    "# dependencies\n",
    "from numpy import loadtxt, column_stack, subtract, multiply, divide, average\n",
    "from numpy.linalg import norm\n",
    "from numpy import mgrid, pi, sin, cos\n",
    "import datetime\n",
    "import matplotlib.pyplot as plt\n",
    "import matplotlib.dates as mdates\n",
    "from mpl_toolkits.mplot3d import Axes3D\n",
    "%matplotlib inline\n",
    "\n",
    "# constants\n",
    "GPS2UNIX_OFFSET  = 315964800  # sec\n",
    "RADIUS_EARTH     =      6371  # km\n",
    "\n",
    "date_fmt = mdates.DateFormatter('%b-%d %H:%M')\n",
    "red = \"#941e56\"\n",
    "blue = \"#4a73e1\"\n",
    "green = \"#22b464\"\n",
    "\n",
    "u, v = mgrid[0:2*pi:40j, 0:pi:20j]\n",
    "radius = RADIUS_EARTH\n",
    "es_x = cos(u)*sin(v)*radius\n",
    "es_y = sin(u)*sin(v)*radius\n",
    "es_z = cos(v)*radius"
   ]
  },
  {
   "cell_type": "code",
   "execution_count": null,
   "metadata": {
    "collapsed": false
   },
   "outputs": [],
   "source": [
    "# import data\n",
    "columns = loadtxt('./data/ISS-Live-Capture.csv', delimiter=',', unpack=True)\n",
    "\n",
    "receive_time = columns[0]\n",
    "state_time   = columns[1]\n",
    "state_x, state_y, state_z = columns[2:5]\n",
    "\n",
    "# converty GPS stamp to datetime object\n",
    "state_time = [datetime.datetime.utcfromtimestamp(t + GPS2UNIX_OFFSET) for t in state_time]\n",
    "\n",
    "# vector position\n",
    "state_vec = column_stack(( state_x,  state_y,  state_z))\n",
    "radius = norm(state_vec, axis=1)\n",
    "\n",
    "# find gaps\n",
    "state_gaps = []\n",
    "for i, t in enumerate(state_time[:-1]):\n",
    "    diff = (state_time[i+1] - t).seconds\n",
    "    if diff > 15:\n",
    "        state_gaps.append(i)"
   ]
  },
  {
   "cell_type": "markdown",
   "metadata": {},
   "source": [
    "Gathering ISS state vector data from [isslive.com](http://isslive.com/displays/adcoDisplay1.html).\n",
    "\n",
    "## The Data\n",
    "\n",
    "Downloads:\n",
    "\n",
    " - This article, source code, and all data: [archive.zip](https://github.com/natronics/ISS-TLE-Propagation/archive/gh-pages.zip), [archive.tar.gz](https://github.com/natronics/ISS-TLE-Propagation/archive/gh-pages.tar.gz)\n",
    " - [GitHub project page](https://github.com/natronics/ISS-TLE-Propagation)\n",
    "\n",
    "See the position vector over time"
   ]
  },
  {
   "cell_type": "code",
   "execution_count": null,
   "metadata": {
    "collapsed": false
   },
   "outputs": [],
   "source": [
    "fig, ax1 = plt.subplots(figsize=(24,8))\n",
    "plt.title(r\"ISS State Vector J2000 X,Y,Z Position Over Time\")\n",
    "plt.ylabel(r\"J2000 Coordinate [km]\")\n",
    "plt.xlabel(r\"State Vector Date [Month-Day HH:MM (UTC)]\")\n",
    "\n",
    "begin_data = 0\n",
    "for end_data in state_gaps:\n",
    "    plt.plot(state_time[begin_data:end_data], state_x[begin_data:end_data], color=red, alpha=0.75)\n",
    "    plt.plot(state_time[begin_data:end_data], state_y[begin_data:end_data], color=blue, alpha=0.75)\n",
    "    plt.plot(state_time[begin_data:end_data], state_z[begin_data:end_data], color=green, alpha=0.75)\n",
    "    begin_data = end_data+1\n",
    "\n",
    "# hack for labels\n",
    "plt.plot([state_time[0],state_time[0]], [-100000,-110000], color=red, alpha=0.8, label=\"X\")\n",
    "plt.plot([state_time[0],state_time[0]], [-100000,-110000], color=blue, alpha=0.8, label=\"Y\")\n",
    "plt.plot([state_time[0],state_time[0]], [-100000,-110000], color=green, alpha=0.8, label=\"Z\")\n",
    "\n",
    "ax1.xaxis.set_major_formatter(date_fmt)\n",
    "plt.setp(ax1.get_xticklabels(), rotation=45, horizontalalignment='right')\n",
    "plt.ylim([-10e3,10e3])\n",
    "ax1.legend(loc=1, title=\"Coordinate:\")\n",
    "plt.show()"
   ]
  },
  {
   "cell_type": "code",
   "execution_count": null,
   "metadata": {
    "collapsed": false
   },
   "outputs": [],
   "source": [
    "fig, ax1 = plt.subplots(figsize=(24,24))\n",
    "ax1 = plt.axes(projection='3d')\n",
    "plt.title(r\"ISS Orbit\")\n",
    "plt.xlabel(r\"J2000 X [km]\")\n",
    "plt.ylabel(r\"J2000 Y [km]\")\n",
    "ax1.set_zlabel('J2000 Z [km]')\n",
    "\n",
    "ax1.plot_wireframe(es_x, es_y, es_z, color=blue, alpha=0.2, lw=1.2)\n",
    "\n",
    "begin_data = 0\n",
    "for end_data in state_gaps:\n",
    "    ax1.plot(state_x[begin_data:end_data], state_y[begin_data:end_data], state_z[begin_data:end_data], '-', color=red, alpha=0.7, lw=0.4)\n",
    "    begin_data = end_data+1\n",
    "\n",
    "ax1.view_init(elev=15.0, azim=60)\n",
    "plt.setp(ax1.get_zticklabels(), horizontalalignment='right')\n",
    "ax1.set_xlim(-6000, 6000)\n",
    "ax1.set_ylim(-6000, 6000)\n",
    "ax1.set_zlim(-6000, 6000)\n",
    "ax1.set_aspect('equal','box')\n",
    "plt.show()"
   ]
  },
  {
   "cell_type": "markdown",
   "metadata": {},
   "source": [
    "See the alititude over time"
   ]
  },
  {
   "cell_type": "code",
   "execution_count": null,
   "metadata": {
    "collapsed": false
   },
   "outputs": [],
   "source": [
    "height = subtract(radius, RADIUS_EARTH)\n",
    "\n",
    "avg_height = average(height)\n",
    "fig, ax1 = plt.subplots(figsize=(24,8))\n",
    "plt.title(r\"ISS Geocentric Altitude Over Time\")\n",
    "plt.ylabel(r\"Geocentric Altitude [km]\")\n",
    "plt.xlabel(r\"State Vector Date [Month-Day HH:MM (UTC)]\")\n",
    "\n",
    "begin_data = 0\n",
    "for end_data in state_gaps:\n",
    "    plt.plot(state_time[begin_data:end_data], height[begin_data:end_data], alpha=0.8, color=red)\n",
    "    begin_data = end_data+1\n",
    "\n",
    "# label hack\n",
    "plt.plot([state_time[0],state_time[0]],[0,0], color=red, alpha=0.8, label=\"Geocentric Altitude\")\n",
    "\n",
    "plt.plot([state_time[0], state_time[-1]], [avg_height, avg_height], 'k--', alpha=0.4, label=\"Mean Geocentric Altitude (%0.1f) km\" % avg_height)\n",
    "\n",
    "ax1.xaxis.set_major_formatter(date_fmt)\n",
    "plt.setp(ax1.get_xticklabels(), rotation=45, horizontalalignment='right')\n",
    "plt.ylim([400,425])\n",
    "ax1.legend(loc=1)\n",
    "plt.show()"
   ]
  },
  {
   "cell_type": "code",
   "execution_count": null,
   "metadata": {
    "collapsed": false
   },
   "outputs": [],
   "source": [
    "velocity_vec = []\n",
    "velocity_pos = []\n",
    "velocity = []\n",
    "_v = []\n",
    "for i, t in enumerate(state_time[:-1]):\n",
    "    delta_t = (state_time[i+1] - t)\n",
    "    delta_t = delta_t.seconds + (delta_t.microseconds / 1e6)\n",
    "    if delta_t < 15:\n",
    "        s = state_vec[i] - state_vec[i+1]\n",
    "        v = multiply(divide(s, delta_t), 1000.0)\n",
    "        velocity_vec.append(v)\n",
    "        velocity_pos.append(s)\n",
    "        velocity.append(norm(v))\n",
    "        _v.append(norm(v))\n",
    "    else:\n",
    "        velocity.append(None)\n",
    "velocity.append(None)\n",
    "avg_velocity = average(_v)"
   ]
  },
  {
   "cell_type": "code",
   "execution_count": null,
   "metadata": {
    "collapsed": false
   },
   "outputs": [],
   "source": [
    "fig, ax1 = plt.subplots(figsize=(24,8))\n",
    "plt.title(r\"ISS Velocity Over Time\")\n",
    "plt.ylabel(r\"ECI Velocity [m/s]\")\n",
    "plt.xlabel(r\"State Vector Date [Month-Day HH:MM (UTC)]\")\n",
    "\n",
    "\n",
    "ax1.plot(state_time, velocity, color=red, alpha=0.8, label=\"ECI Velocity\")\n",
    "ax1.plot([state_time[0], state_time[-1]], [avg_velocity, avg_velocity], 'k--', alpha=0.4, label=\"Mean ECI Velocity (%0.1f) m/s\" % avg_velocity)\n",
    "\n",
    "# label hack\n",
    "ax1.plot([state_time[0],state_time[0]], [0,0], color=blue, linestyle='-.', alpha=0.3, label=\"Geocentric Altitude\")\n",
    "\n",
    "ax1.xaxis.set_major_formatter(date_fmt)\n",
    "plt.setp(ax1.get_xticklabels(), rotation=45, horizontalalignment='right')\n",
    "plt.ylim([7650,7685])\n",
    "ax1.legend(loc=1)\n",
    "\n",
    "ax2 = ax1.twinx()\n",
    "begin_data = 0\n",
    "for end_data in state_gaps:\n",
    "    ax2.plot(state_time[begin_data:end_data], height[begin_data:end_data], color=blue, linestyle='-.', alpha=0.3)\n",
    "    begin_data = end_data+1\n",
    "ax2.grid(b=False)\n",
    "plt.ylim([400,425])\n",
    "plt.ylabel(r\"Geocentric Altitude [km]\")\n",
    "\n",
    "plt.show()"
   ]
  },
  {
   "cell_type": "markdown",
   "metadata": {},
   "source": [
    "--------------------------------------------------------------------------------------\n",
    "\n",
    "This article was written in\n",
    "[Jupyter Notebooks](http://jupyter.org/).\n",
    "[View the original document](http://nbviewer.jupyter.org/github/natronics/ISS-TLE-Propagation/blob/gh-pages/index.ipynb) or download the raw file: [index.ipynb](https://raw.githubusercontent.com/natronics/ISS-TLE-Propagation/gh-pages/index.ipynb)\n",
    "\n",
    "Did I make a mistake? Have something to add? You can\n",
    "[create an issue](https://github.com/natronics/ISS-TLE-Propagation/issues)\n",
    ", or\n",
    "[build this page yourself](https://github.com/natronics/ISS-TLE-Propagation/blob/gh-pages/README.markdown)\n",
    "and\n",
    "[send a pull request](https://help.github.com/categories/collaborating-on-projects-using-pull-requests/)."
   ]
  },
  {
   "cell_type": "markdown",
   "metadata": {},
   "source": [
    "<a rel=\"license\" href=\"https://creativecommons.org/licenses/by-nc/4.0/\"><img class=\"wrap\" alt=\"Creative Commons License\" style=\"border-width:0\" src=\"https://i.creativecommons.org/l/by-nc/4.0/80x15.png\" /></a> &nbsp; This <span xmlns:dct=\"https://purl.org/dc/terms/\" href=\"https://purl.org/dc/dcmitype/InteractiveResource\" rel=\"dct:type\">work</span> by <a xmlns:cc=\"https://creativecommons.org/ns#\" href=\"https://github.com/natronics\" property=\"cc:attributionName\" rel=\"cc:attributionURL\">natronics</a> is licensed under a <a rel=\"license\" href=\"https://creativecommons.org/licenses/by-nc/4.0/\">Creative Commons Attribution-NonCommercial 4.0 International License</a>."
   ]
  },
  {
   "cell_type": "markdown",
   "metadata": {},
   "source": [
    "#### Footnotes"
   ]
  }
 ],
 "metadata": {
  "kernelspec": {
   "display_name": "Python 2",
   "language": "python",
   "name": "python2"
  },
  "language_info": {
   "codemirror_mode": {
    "name": "ipython",
    "version": 2
   },
   "file_extension": ".py",
   "mimetype": "text/x-python",
   "name": "python",
   "nbconvert_exporter": "python",
   "pygments_lexer": "ipython2",
   "version": "2.7.10+"
  }
 },
 "nbformat": 4,
 "nbformat_minor": 0
}
